{
 "cells": [
  {
   "cell_type": "code",
   "execution_count": null,
   "id": "98af135a",
   "metadata": {},
   "outputs": [],
   "source": []
  },
  {
   "cell_type": "markdown",
   "id": "5cf56473",
   "metadata": {},
   "source": [
    "## Git"
   ]
  },
  {
   "cell_type": "markdown",
   "id": "b29c4bde",
   "metadata": {},
   "source": [
    "Repository: the place where files’ current and historical data are\n",
    "stored\n",
    "\n",
    "▷ Revision or version: the state at a point in time of the entire tree in\n",
    "the repository\n",
    "\n",
    "▷ Clone: creating a repository containing the revisions from another\n",
    "repository\n",
    "\n",
    "▷ Working copy: a local copy of files from a repository at a specific\n",
    "revision\n",
    "\n",
    "▷ Checkout: create a local working copy from the repository\n",
    "\n",
    "▷ Change or diff: a specific modification to a set of files under\n",
    "version control\n",
    "\n",
    "▷ Commit: write the changes made in the working copy back to the\n",
    "reposito\n",
    "\n",
    "\n",
    "\n",
    "#### Procedura\n",
    "\n",
    "1. Clone your repository\n",
    "(git clone https://github.com/NOME-UTENTE/NOME-REPOSITORY.git)\n",
    "Per clonare è necessario avere una chiave SSH condivisa su git\n",
    "\n",
    "2. Create a new branch and check it out\n",
    "(git checkout -b nome-branch)\n",
    "\n",
    "3. Do all you have to \n",
    "(Controlla le modifiche con git status)\n",
    "\n",
    "4. Add the new files, commit your modified files\n",
    "(git add .)per aggiungere, (git commit -m \"Descrizione chiara delle modifiche\") per fare commit\n",
    "\n",
    "5. Create a pull request\n",
    "(git push origin nome-branch)\n",
    "\n",
    "6. Have your pull request reviewed\n",
    "\n",
    "7. Merge the branch on the master\n",
    "\n",
    "8. Tag the master"
   ]
  }
 ],
 "metadata": {
  "kernelspec": {
   "display_name": "Python 3",
   "language": "python",
   "name": "python3"
  },
  "language_info": {
   "codemirror_mode": {
    "name": "ipython",
    "version": 3
   },
   "file_extension": ".py",
   "mimetype": "text/x-python",
   "name": "python",
   "nbconvert_exporter": "python",
   "pygments_lexer": "ipython3",
   "version": "3.13.7"
  }
 },
 "nbformat": 4,
 "nbformat_minor": 5
}
